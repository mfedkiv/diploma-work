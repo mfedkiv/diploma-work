{
  "nbformat": 4,
  "nbformat_minor": 0,
  "metadata": {
    "colab": {
      "provenance": []
    },
    "kernelspec": {
      "name": "python3",
      "display_name": "Python 3"
    },
    "language_info": {
      "name": "python"
    }
  },
  "cells": [
    {
      "cell_type": "code",
      "source": [
        "from google.colab import drive\n",
        "\n",
        "drive.mount('/content/drive')"
      ],
      "metadata": {
        "colab": {
          "base_uri": "https://localhost:8080/"
        },
        "id": "fYkyP5KriZ7N",
        "outputId": "ebe3097b-6478-4bcc-9121-8bbfc0114bb7"
      },
      "execution_count": null,
      "outputs": [
        {
          "output_type": "stream",
          "name": "stdout",
          "text": [
            "Mounted at /content/drive\n"
          ]
        }
      ]
    },
    {
      "cell_type": "code",
      "source": [
        "from sklearn.model_selection import cross_val_score, train_test_split\n",
        "from sklearn.linear_model import LogisticRegression, SGDClassifier\n",
        "from sklearn.svm import SVC\n",
        "from sklearn.neighbors import KNeighborsClassifier\n",
        "from sklearn.tree import DecisionTreeClassifier\n",
        "from sklearn.ensemble import RandomForestClassifier\n",
        "from sklearn.metrics import accuracy_score, precision_score, recall_score, f1_score\n",
        "from sklearn.utils import shuffle\n",
        "import pandas as pd"
      ],
      "metadata": {
        "id": "Mj3GAr8XibpV"
      },
      "execution_count": null,
      "outputs": []
    },
    {
      "cell_type": "code",
      "source": [
        "xlsx_path = '/content/drive/MyDrive/blood_data/cbc-dataset-refined.xlsx'\n",
        "\n",
        "dataset = pd.read_excel(xlsx_path)"
      ],
      "metadata": {
        "id": "MDxh0iDbidIb"
      },
      "execution_count": null,
      "outputs": []
    },
    {
      "cell_type": "code",
      "source": [
        "dataset"
      ],
      "metadata": {
        "id": "k9OWACa8ZvT8",
        "outputId": "7efecf86-b4e7-4db7-879a-700f44ddcd99",
        "colab": {
          "base_uri": "https://localhost:8080/",
          "height": 423
        }
      },
      "execution_count": null,
      "outputs": [
        {
          "output_type": "execute_result",
          "data": {
            "text/plain": [
              "      ID   WBC  LYMp  MIDp  NEUTp  LYMn  MIDn  NEUTn   RBC   HGB  ...  MCHC  \\\n",
              "0      1  10.0  43.2   6.7   50.1   4.3   0.7    5.0  2.77   7.3  ...  30.1   \n",
              "1      2  10.0  42.4   5.3   52.3   4.2   0.5    5.3  2.84   7.3  ...  20.2   \n",
              "2      3   7.2  30.7   8.6   60.7   2.2   0.6    4.4  3.97   9.0  ...  29.5   \n",
              "3      4   6.0  30.2   6.3   63.5   1.8   0.4    3.8  4.22   3.8  ...  29.8   \n",
              "4      5   4.2  39.1   7.2   53.7   1.6   0.3    2.3  3.93   0.4  ...  29.7   \n",
              "..   ...   ...   ...   ...    ...   ...   ...    ...   ...   ...  ...   ...   \n",
              "495  496   2.7  43.4   7.1   49.5   1.2   0.2    1.3  4.77  13.2  ...  31.7   \n",
              "496  497   6.2  35.0   6.9   57.6   2.2   0.4    3.6  4.82  11.6  ...  31.4   \n",
              "497  498   8.4  29.2   7.3   63.5   2.0   0.5    4.3  4.40   9.9  ...  33.0   \n",
              "498  499   7.4  19.0   8.5   72.5   0.8   0.3    2.9  3.34   7.4  ...  30.9   \n",
              "499  500  12.9  15.5   9.1   75.4   0.6   0.4    3.0  4.27  10.3  ...  33.5   \n",
              "\n",
              "     RDWSD  RDWCV    PLT   MPV   PDW   PCT   PLCR  deviation  pneumonia  \n",
              "0     35.3   11.4  189.0   9.2  12.5  0.17  22.30          1          0  \n",
              "1     35.3   11.4  180.0   8.9  12.5  0.16  19.50          1          0  \n",
              "2     37.2   13.7  148.0  10.1  14.3  0.14  30.50          1          0  \n",
              "3     46.5   17.0  143.0   8.6  11.3  0.12  16.40          1          0  \n",
              "4     42.7   15.1  236.0  19.5  12.8  0.22  24.80          1          0  \n",
              "..     ...    ...    ...   ...   ...   ...    ...        ...        ...  \n",
              "495   37.2   12.2  169.0  10.1  14.3  0.17  28.60          1          0  \n",
              "496   37.2   13.8  177.0   9.9  13.6  0.18  29.00          1          0  \n",
              "497   38.0   10.6  133.1   9.6  12.8  0.12  24.60          1          0  \n",
              "498   36.2   11.0  125.0  10.7  15.9  0.13  33.60          1          0  \n",
              "499   40.7   12.3  244.0   9.7  13.8  0.23  26.14          1          1  \n",
              "\n",
              "[500 rows x 23 columns]"
            ],
            "text/html": [
              "\n",
              "  <div id=\"df-801d2199-01ee-4e86-8744-c33b186d9063\" class=\"colab-df-container\">\n",
              "    <div>\n",
              "<style scoped>\n",
              "    .dataframe tbody tr th:only-of-type {\n",
              "        vertical-align: middle;\n",
              "    }\n",
              "\n",
              "    .dataframe tbody tr th {\n",
              "        vertical-align: top;\n",
              "    }\n",
              "\n",
              "    .dataframe thead th {\n",
              "        text-align: right;\n",
              "    }\n",
              "</style>\n",
              "<table border=\"1\" class=\"dataframe\">\n",
              "  <thead>\n",
              "    <tr style=\"text-align: right;\">\n",
              "      <th></th>\n",
              "      <th>ID</th>\n",
              "      <th>WBC</th>\n",
              "      <th>LYMp</th>\n",
              "      <th>MIDp</th>\n",
              "      <th>NEUTp</th>\n",
              "      <th>LYMn</th>\n",
              "      <th>MIDn</th>\n",
              "      <th>NEUTn</th>\n",
              "      <th>RBC</th>\n",
              "      <th>HGB</th>\n",
              "      <th>...</th>\n",
              "      <th>MCHC</th>\n",
              "      <th>RDWSD</th>\n",
              "      <th>RDWCV</th>\n",
              "      <th>PLT</th>\n",
              "      <th>MPV</th>\n",
              "      <th>PDW</th>\n",
              "      <th>PCT</th>\n",
              "      <th>PLCR</th>\n",
              "      <th>deviation</th>\n",
              "      <th>pneumonia</th>\n",
              "    </tr>\n",
              "  </thead>\n",
              "  <tbody>\n",
              "    <tr>\n",
              "      <th>0</th>\n",
              "      <td>1</td>\n",
              "      <td>10.0</td>\n",
              "      <td>43.2</td>\n",
              "      <td>6.7</td>\n",
              "      <td>50.1</td>\n",
              "      <td>4.3</td>\n",
              "      <td>0.7</td>\n",
              "      <td>5.0</td>\n",
              "      <td>2.77</td>\n",
              "      <td>7.3</td>\n",
              "      <td>...</td>\n",
              "      <td>30.1</td>\n",
              "      <td>35.3</td>\n",
              "      <td>11.4</td>\n",
              "      <td>189.0</td>\n",
              "      <td>9.2</td>\n",
              "      <td>12.5</td>\n",
              "      <td>0.17</td>\n",
              "      <td>22.30</td>\n",
              "      <td>1</td>\n",
              "      <td>0</td>\n",
              "    </tr>\n",
              "    <tr>\n",
              "      <th>1</th>\n",
              "      <td>2</td>\n",
              "      <td>10.0</td>\n",
              "      <td>42.4</td>\n",
              "      <td>5.3</td>\n",
              "      <td>52.3</td>\n",
              "      <td>4.2</td>\n",
              "      <td>0.5</td>\n",
              "      <td>5.3</td>\n",
              "      <td>2.84</td>\n",
              "      <td>7.3</td>\n",
              "      <td>...</td>\n",
              "      <td>20.2</td>\n",
              "      <td>35.3</td>\n",
              "      <td>11.4</td>\n",
              "      <td>180.0</td>\n",
              "      <td>8.9</td>\n",
              "      <td>12.5</td>\n",
              "      <td>0.16</td>\n",
              "      <td>19.50</td>\n",
              "      <td>1</td>\n",
              "      <td>0</td>\n",
              "    </tr>\n",
              "    <tr>\n",
              "      <th>2</th>\n",
              "      <td>3</td>\n",
              "      <td>7.2</td>\n",
              "      <td>30.7</td>\n",
              "      <td>8.6</td>\n",
              "      <td>60.7</td>\n",
              "      <td>2.2</td>\n",
              "      <td>0.6</td>\n",
              "      <td>4.4</td>\n",
              "      <td>3.97</td>\n",
              "      <td>9.0</td>\n",
              "      <td>...</td>\n",
              "      <td>29.5</td>\n",
              "      <td>37.2</td>\n",
              "      <td>13.7</td>\n",
              "      <td>148.0</td>\n",
              "      <td>10.1</td>\n",
              "      <td>14.3</td>\n",
              "      <td>0.14</td>\n",
              "      <td>30.50</td>\n",
              "      <td>1</td>\n",
              "      <td>0</td>\n",
              "    </tr>\n",
              "    <tr>\n",
              "      <th>3</th>\n",
              "      <td>4</td>\n",
              "      <td>6.0</td>\n",
              "      <td>30.2</td>\n",
              "      <td>6.3</td>\n",
              "      <td>63.5</td>\n",
              "      <td>1.8</td>\n",
              "      <td>0.4</td>\n",
              "      <td>3.8</td>\n",
              "      <td>4.22</td>\n",
              "      <td>3.8</td>\n",
              "      <td>...</td>\n",
              "      <td>29.8</td>\n",
              "      <td>46.5</td>\n",
              "      <td>17.0</td>\n",
              "      <td>143.0</td>\n",
              "      <td>8.6</td>\n",
              "      <td>11.3</td>\n",
              "      <td>0.12</td>\n",
              "      <td>16.40</td>\n",
              "      <td>1</td>\n",
              "      <td>0</td>\n",
              "    </tr>\n",
              "    <tr>\n",
              "      <th>4</th>\n",
              "      <td>5</td>\n",
              "      <td>4.2</td>\n",
              "      <td>39.1</td>\n",
              "      <td>7.2</td>\n",
              "      <td>53.7</td>\n",
              "      <td>1.6</td>\n",
              "      <td>0.3</td>\n",
              "      <td>2.3</td>\n",
              "      <td>3.93</td>\n",
              "      <td>0.4</td>\n",
              "      <td>...</td>\n",
              "      <td>29.7</td>\n",
              "      <td>42.7</td>\n",
              "      <td>15.1</td>\n",
              "      <td>236.0</td>\n",
              "      <td>19.5</td>\n",
              "      <td>12.8</td>\n",
              "      <td>0.22</td>\n",
              "      <td>24.80</td>\n",
              "      <td>1</td>\n",
              "      <td>0</td>\n",
              "    </tr>\n",
              "    <tr>\n",
              "      <th>...</th>\n",
              "      <td>...</td>\n",
              "      <td>...</td>\n",
              "      <td>...</td>\n",
              "      <td>...</td>\n",
              "      <td>...</td>\n",
              "      <td>...</td>\n",
              "      <td>...</td>\n",
              "      <td>...</td>\n",
              "      <td>...</td>\n",
              "      <td>...</td>\n",
              "      <td>...</td>\n",
              "      <td>...</td>\n",
              "      <td>...</td>\n",
              "      <td>...</td>\n",
              "      <td>...</td>\n",
              "      <td>...</td>\n",
              "      <td>...</td>\n",
              "      <td>...</td>\n",
              "      <td>...</td>\n",
              "      <td>...</td>\n",
              "      <td>...</td>\n",
              "    </tr>\n",
              "    <tr>\n",
              "      <th>495</th>\n",
              "      <td>496</td>\n",
              "      <td>2.7</td>\n",
              "      <td>43.4</td>\n",
              "      <td>7.1</td>\n",
              "      <td>49.5</td>\n",
              "      <td>1.2</td>\n",
              "      <td>0.2</td>\n",
              "      <td>1.3</td>\n",
              "      <td>4.77</td>\n",
              "      <td>13.2</td>\n",
              "      <td>...</td>\n",
              "      <td>31.7</td>\n",
              "      <td>37.2</td>\n",
              "      <td>12.2</td>\n",
              "      <td>169.0</td>\n",
              "      <td>10.1</td>\n",
              "      <td>14.3</td>\n",
              "      <td>0.17</td>\n",
              "      <td>28.60</td>\n",
              "      <td>1</td>\n",
              "      <td>0</td>\n",
              "    </tr>\n",
              "    <tr>\n",
              "      <th>496</th>\n",
              "      <td>497</td>\n",
              "      <td>6.2</td>\n",
              "      <td>35.0</td>\n",
              "      <td>6.9</td>\n",
              "      <td>57.6</td>\n",
              "      <td>2.2</td>\n",
              "      <td>0.4</td>\n",
              "      <td>3.6</td>\n",
              "      <td>4.82</td>\n",
              "      <td>11.6</td>\n",
              "      <td>...</td>\n",
              "      <td>31.4</td>\n",
              "      <td>37.2</td>\n",
              "      <td>13.8</td>\n",
              "      <td>177.0</td>\n",
              "      <td>9.9</td>\n",
              "      <td>13.6</td>\n",
              "      <td>0.18</td>\n",
              "      <td>29.00</td>\n",
              "      <td>1</td>\n",
              "      <td>0</td>\n",
              "    </tr>\n",
              "    <tr>\n",
              "      <th>497</th>\n",
              "      <td>498</td>\n",
              "      <td>8.4</td>\n",
              "      <td>29.2</td>\n",
              "      <td>7.3</td>\n",
              "      <td>63.5</td>\n",
              "      <td>2.0</td>\n",
              "      <td>0.5</td>\n",
              "      <td>4.3</td>\n",
              "      <td>4.40</td>\n",
              "      <td>9.9</td>\n",
              "      <td>...</td>\n",
              "      <td>33.0</td>\n",
              "      <td>38.0</td>\n",
              "      <td>10.6</td>\n",
              "      <td>133.1</td>\n",
              "      <td>9.6</td>\n",
              "      <td>12.8</td>\n",
              "      <td>0.12</td>\n",
              "      <td>24.60</td>\n",
              "      <td>1</td>\n",
              "      <td>0</td>\n",
              "    </tr>\n",
              "    <tr>\n",
              "      <th>498</th>\n",
              "      <td>499</td>\n",
              "      <td>7.4</td>\n",
              "      <td>19.0</td>\n",
              "      <td>8.5</td>\n",
              "      <td>72.5</td>\n",
              "      <td>0.8</td>\n",
              "      <td>0.3</td>\n",
              "      <td>2.9</td>\n",
              "      <td>3.34</td>\n",
              "      <td>7.4</td>\n",
              "      <td>...</td>\n",
              "      <td>30.9</td>\n",
              "      <td>36.2</td>\n",
              "      <td>11.0</td>\n",
              "      <td>125.0</td>\n",
              "      <td>10.7</td>\n",
              "      <td>15.9</td>\n",
              "      <td>0.13</td>\n",
              "      <td>33.60</td>\n",
              "      <td>1</td>\n",
              "      <td>0</td>\n",
              "    </tr>\n",
              "    <tr>\n",
              "      <th>499</th>\n",
              "      <td>500</td>\n",
              "      <td>12.9</td>\n",
              "      <td>15.5</td>\n",
              "      <td>9.1</td>\n",
              "      <td>75.4</td>\n",
              "      <td>0.6</td>\n",
              "      <td>0.4</td>\n",
              "      <td>3.0</td>\n",
              "      <td>4.27</td>\n",
              "      <td>10.3</td>\n",
              "      <td>...</td>\n",
              "      <td>33.5</td>\n",
              "      <td>40.7</td>\n",
              "      <td>12.3</td>\n",
              "      <td>244.0</td>\n",
              "      <td>9.7</td>\n",
              "      <td>13.8</td>\n",
              "      <td>0.23</td>\n",
              "      <td>26.14</td>\n",
              "      <td>1</td>\n",
              "      <td>1</td>\n",
              "    </tr>\n",
              "  </tbody>\n",
              "</table>\n",
              "<p>500 rows × 23 columns</p>\n",
              "</div>\n",
              "    <div class=\"colab-df-buttons\">\n",
              "\n",
              "  <div class=\"colab-df-container\">\n",
              "    <button class=\"colab-df-convert\" onclick=\"convertToInteractive('df-801d2199-01ee-4e86-8744-c33b186d9063')\"\n",
              "            title=\"Convert this dataframe to an interactive table.\"\n",
              "            style=\"display:none;\">\n",
              "\n",
              "  <svg xmlns=\"http://www.w3.org/2000/svg\" height=\"24px\" viewBox=\"0 -960 960 960\">\n",
              "    <path d=\"M120-120v-720h720v720H120Zm60-500h600v-160H180v160Zm220 220h160v-160H400v160Zm0 220h160v-160H400v160ZM180-400h160v-160H180v160Zm440 0h160v-160H620v160ZM180-180h160v-160H180v160Zm440 0h160v-160H620v160Z\"/>\n",
              "  </svg>\n",
              "    </button>\n",
              "\n",
              "  <style>\n",
              "    .colab-df-container {\n",
              "      display:flex;\n",
              "      gap: 12px;\n",
              "    }\n",
              "\n",
              "    .colab-df-convert {\n",
              "      background-color: #E8F0FE;\n",
              "      border: none;\n",
              "      border-radius: 50%;\n",
              "      cursor: pointer;\n",
              "      display: none;\n",
              "      fill: #1967D2;\n",
              "      height: 32px;\n",
              "      padding: 0 0 0 0;\n",
              "      width: 32px;\n",
              "    }\n",
              "\n",
              "    .colab-df-convert:hover {\n",
              "      background-color: #E2EBFA;\n",
              "      box-shadow: 0px 1px 2px rgba(60, 64, 67, 0.3), 0px 1px 3px 1px rgba(60, 64, 67, 0.15);\n",
              "      fill: #174EA6;\n",
              "    }\n",
              "\n",
              "    .colab-df-buttons div {\n",
              "      margin-bottom: 4px;\n",
              "    }\n",
              "\n",
              "    [theme=dark] .colab-df-convert {\n",
              "      background-color: #3B4455;\n",
              "      fill: #D2E3FC;\n",
              "    }\n",
              "\n",
              "    [theme=dark] .colab-df-convert:hover {\n",
              "      background-color: #434B5C;\n",
              "      box-shadow: 0px 1px 3px 1px rgba(0, 0, 0, 0.15);\n",
              "      filter: drop-shadow(0px 1px 2px rgba(0, 0, 0, 0.3));\n",
              "      fill: #FFFFFF;\n",
              "    }\n",
              "  </style>\n",
              "\n",
              "    <script>\n",
              "      const buttonEl =\n",
              "        document.querySelector('#df-801d2199-01ee-4e86-8744-c33b186d9063 button.colab-df-convert');\n",
              "      buttonEl.style.display =\n",
              "        google.colab.kernel.accessAllowed ? 'block' : 'none';\n",
              "\n",
              "      async function convertToInteractive(key) {\n",
              "        const element = document.querySelector('#df-801d2199-01ee-4e86-8744-c33b186d9063');\n",
              "        const dataTable =\n",
              "          await google.colab.kernel.invokeFunction('convertToInteractive',\n",
              "                                                    [key], {});\n",
              "        if (!dataTable) return;\n",
              "\n",
              "        const docLinkHtml = 'Like what you see? Visit the ' +\n",
              "          '<a target=\"_blank\" href=https://colab.research.google.com/notebooks/data_table.ipynb>data table notebook</a>'\n",
              "          + ' to learn more about interactive tables.';\n",
              "        element.innerHTML = '';\n",
              "        dataTable['output_type'] = 'display_data';\n",
              "        await google.colab.output.renderOutput(dataTable, element);\n",
              "        const docLink = document.createElement('div');\n",
              "        docLink.innerHTML = docLinkHtml;\n",
              "        element.appendChild(docLink);\n",
              "      }\n",
              "    </script>\n",
              "  </div>\n",
              "\n",
              "\n",
              "<div id=\"df-5788953b-adaa-4243-bad9-d773a3f0d03e\">\n",
              "  <button class=\"colab-df-quickchart\" onclick=\"quickchart('df-5788953b-adaa-4243-bad9-d773a3f0d03e')\"\n",
              "            title=\"Suggest charts\"\n",
              "            style=\"display:none;\">\n",
              "\n",
              "<svg xmlns=\"http://www.w3.org/2000/svg\" height=\"24px\"viewBox=\"0 0 24 24\"\n",
              "     width=\"24px\">\n",
              "    <g>\n",
              "        <path d=\"M19 3H5c-1.1 0-2 .9-2 2v14c0 1.1.9 2 2 2h14c1.1 0 2-.9 2-2V5c0-1.1-.9-2-2-2zM9 17H7v-7h2v7zm4 0h-2V7h2v10zm4 0h-2v-4h2v4z\"/>\n",
              "    </g>\n",
              "</svg>\n",
              "  </button>\n",
              "\n",
              "<style>\n",
              "  .colab-df-quickchart {\n",
              "      --bg-color: #E8F0FE;\n",
              "      --fill-color: #1967D2;\n",
              "      --hover-bg-color: #E2EBFA;\n",
              "      --hover-fill-color: #174EA6;\n",
              "      --disabled-fill-color: #AAA;\n",
              "      --disabled-bg-color: #DDD;\n",
              "  }\n",
              "\n",
              "  [theme=dark] .colab-df-quickchart {\n",
              "      --bg-color: #3B4455;\n",
              "      --fill-color: #D2E3FC;\n",
              "      --hover-bg-color: #434B5C;\n",
              "      --hover-fill-color: #FFFFFF;\n",
              "      --disabled-bg-color: #3B4455;\n",
              "      --disabled-fill-color: #666;\n",
              "  }\n",
              "\n",
              "  .colab-df-quickchart {\n",
              "    background-color: var(--bg-color);\n",
              "    border: none;\n",
              "    border-radius: 50%;\n",
              "    cursor: pointer;\n",
              "    display: none;\n",
              "    fill: var(--fill-color);\n",
              "    height: 32px;\n",
              "    padding: 0;\n",
              "    width: 32px;\n",
              "  }\n",
              "\n",
              "  .colab-df-quickchart:hover {\n",
              "    background-color: var(--hover-bg-color);\n",
              "    box-shadow: 0 1px 2px rgba(60, 64, 67, 0.3), 0 1px 3px 1px rgba(60, 64, 67, 0.15);\n",
              "    fill: var(--button-hover-fill-color);\n",
              "  }\n",
              "\n",
              "  .colab-df-quickchart-complete:disabled,\n",
              "  .colab-df-quickchart-complete:disabled:hover {\n",
              "    background-color: var(--disabled-bg-color);\n",
              "    fill: var(--disabled-fill-color);\n",
              "    box-shadow: none;\n",
              "  }\n",
              "\n",
              "  .colab-df-spinner {\n",
              "    border: 2px solid var(--fill-color);\n",
              "    border-color: transparent;\n",
              "    border-bottom-color: var(--fill-color);\n",
              "    animation:\n",
              "      spin 1s steps(1) infinite;\n",
              "  }\n",
              "\n",
              "  @keyframes spin {\n",
              "    0% {\n",
              "      border-color: transparent;\n",
              "      border-bottom-color: var(--fill-color);\n",
              "      border-left-color: var(--fill-color);\n",
              "    }\n",
              "    20% {\n",
              "      border-color: transparent;\n",
              "      border-left-color: var(--fill-color);\n",
              "      border-top-color: var(--fill-color);\n",
              "    }\n",
              "    30% {\n",
              "      border-color: transparent;\n",
              "      border-left-color: var(--fill-color);\n",
              "      border-top-color: var(--fill-color);\n",
              "      border-right-color: var(--fill-color);\n",
              "    }\n",
              "    40% {\n",
              "      border-color: transparent;\n",
              "      border-right-color: var(--fill-color);\n",
              "      border-top-color: var(--fill-color);\n",
              "    }\n",
              "    60% {\n",
              "      border-color: transparent;\n",
              "      border-right-color: var(--fill-color);\n",
              "    }\n",
              "    80% {\n",
              "      border-color: transparent;\n",
              "      border-right-color: var(--fill-color);\n",
              "      border-bottom-color: var(--fill-color);\n",
              "    }\n",
              "    90% {\n",
              "      border-color: transparent;\n",
              "      border-bottom-color: var(--fill-color);\n",
              "    }\n",
              "  }\n",
              "</style>\n",
              "\n",
              "  <script>\n",
              "    async function quickchart(key) {\n",
              "      const quickchartButtonEl =\n",
              "        document.querySelector('#' + key + ' button');\n",
              "      quickchartButtonEl.disabled = true;  // To prevent multiple clicks.\n",
              "      quickchartButtonEl.classList.add('colab-df-spinner');\n",
              "      try {\n",
              "        const charts = await google.colab.kernel.invokeFunction(\n",
              "            'suggestCharts', [key], {});\n",
              "      } catch (error) {\n",
              "        console.error('Error during call to suggestCharts:', error);\n",
              "      }\n",
              "      quickchartButtonEl.classList.remove('colab-df-spinner');\n",
              "      quickchartButtonEl.classList.add('colab-df-quickchart-complete');\n",
              "    }\n",
              "    (() => {\n",
              "      let quickchartButtonEl =\n",
              "        document.querySelector('#df-5788953b-adaa-4243-bad9-d773a3f0d03e button');\n",
              "      quickchartButtonEl.style.display =\n",
              "        google.colab.kernel.accessAllowed ? 'block' : 'none';\n",
              "    })();\n",
              "  </script>\n",
              "</div>\n",
              "    </div>\n",
              "  </div>\n"
            ],
            "application/vnd.google.colaboratory.intrinsic+json": {
              "type": "dataframe",
              "variable_name": "dataset"
            }
          },
          "metadata": {},
          "execution_count": 9
        }
      ]
    },
    {
      "cell_type": "code",
      "source": [
        "data = shuffle(dataset)\n",
        "X = data.drop('pneumonia', axis='columns')\n",
        "y = data['pneumonia']"
      ],
      "metadata": {
        "id": "1NN0Wo_7agFo"
      },
      "execution_count": null,
      "outputs": []
    },
    {
      "cell_type": "code",
      "source": [
        "svc_scores = cross_val_score(SVC(), X, y)\n",
        "print(svc_scores, svc_scores.mean())"
      ],
      "metadata": {
        "colab": {
          "base_uri": "https://localhost:8080/"
        },
        "id": "PyRBnlZAaymf",
        "outputId": "d22867d6-28b3-4b0a-ff75-bf4f69ac5c5b"
      },
      "execution_count": null,
      "outputs": [
        {
          "output_type": "stream",
          "name": "stdout",
          "text": [
            "[0.86 0.86 0.86 0.85 0.85] 0.8560000000000001\n"
          ]
        }
      ]
    },
    {
      "cell_type": "code",
      "source": [
        "log_scores = cross_val_score(LogisticRegression(max_iter=10000), X, y)\n",
        "print(log_scores, log_scores.mean())"
      ],
      "metadata": {
        "colab": {
          "base_uri": "https://localhost:8080/"
        },
        "id": "EY4wbagUa2UG",
        "outputId": "a9482058-40f2-4eec-df16-8fda717e43a8"
      },
      "execution_count": null,
      "outputs": [
        {
          "output_type": "stream",
          "name": "stdout",
          "text": [
            "[0.91 0.94 0.93 0.9  0.89] 0.914\n"
          ]
        }
      ]
    },
    {
      "cell_type": "code",
      "source": [
        "sgd_scores = cross_val_score(SGDClassifier(), X, y)\n",
        "print(sgd_scores, sgd_scores.mean())"
      ],
      "metadata": {
        "colab": {
          "base_uri": "https://localhost:8080/"
        },
        "id": "3UWweRGJa5eD",
        "outputId": "2cab1ee9-e950-410e-9d6e-ebcffa91d217"
      },
      "execution_count": null,
      "outputs": [
        {
          "output_type": "stream",
          "name": "stdout",
          "text": [
            "[0.87 0.9  0.91 0.87 0.85] 0.8800000000000001\n"
          ]
        }
      ]
    },
    {
      "cell_type": "code",
      "source": [
        "rf_scores = cross_val_score(RandomForestClassifier(), X, y)\n",
        "print(rf_scores, rf_scores.mean())"
      ],
      "metadata": {
        "colab": {
          "base_uri": "https://localhost:8080/"
        },
        "id": "5h5ADleda7Xa",
        "outputId": "d40d1909-c4d2-4199-ce31-81f0723c3d7d"
      },
      "execution_count": null,
      "outputs": [
        {
          "output_type": "stream",
          "name": "stdout",
          "text": [
            "[0.97 0.96 0.99 0.96 0.97] 0.97\n"
          ]
        }
      ]
    },
    {
      "cell_type": "code",
      "source": [
        "print('SVC score: ' + str(svc_scores.mean()))\n",
        "print('Log score: ' + str(log_scores.mean()))\n",
        "print('SGD score: ' + str(sgd_scores.mean()))\n",
        "print('RF score: ' + str(rf_scores.mean()))"
      ],
      "metadata": {
        "colab": {
          "base_uri": "https://localhost:8080/"
        },
        "id": "iu7LktCha-BC",
        "outputId": "0ec89060-ea30-499a-e4f4-6abea7574248"
      },
      "execution_count": null,
      "outputs": [
        {
          "output_type": "stream",
          "name": "stdout",
          "text": [
            "SVC score: 0.8560000000000001\n",
            "Log score: 0.914\n",
            "SGD score: 0.8800000000000001\n",
            "RF score: 0.97\n"
          ]
        }
      ]
    },
    {
      "cell_type": "code",
      "source": [
        "X_train, X_test, y_train, y_test = train_test_split(X, y, test_size=0.2, stratify=y)"
      ],
      "metadata": {
        "id": "T5DRVuKkbCUm"
      },
      "execution_count": null,
      "outputs": []
    },
    {
      "cell_type": "code",
      "source": [
        "rf_model = RandomForestClassifier()\n",
        "rf_model.fit(X_train, y_train)\n",
        "rf_model.score(X_test, y_test)"
      ],
      "metadata": {
        "colab": {
          "base_uri": "https://localhost:8080/"
        },
        "id": "-2zeQzlfbFKV",
        "outputId": "5c934cf2-c953-4950-dca8-0010100a1a84"
      },
      "execution_count": null,
      "outputs": [
        {
          "output_type": "execute_result",
          "data": {
            "text/plain": [
              "0.98"
            ]
          },
          "metadata": {},
          "execution_count": 38
        }
      ]
    },
    {
      "cell_type": "code",
      "source": [
        "log_model = LogisticRegression(max_iter=10000)\n",
        "log_model.fit(X_train, y_train)\n",
        "log_model.score(X_test, y_test)"
      ],
      "metadata": {
        "colab": {
          "base_uri": "https://localhost:8080/"
        },
        "id": "xTU-_80PbGI-",
        "outputId": "04c3b544-eaeb-4d49-987e-6ebb3bd414a1"
      },
      "execution_count": null,
      "outputs": [
        {
          "output_type": "execute_result",
          "data": {
            "text/plain": [
              "0.93"
            ]
          },
          "metadata": {},
          "execution_count": 39
        }
      ]
    },
    {
      "cell_type": "code",
      "source": [
        "knn_model = KNeighborsClassifier(n_neighbors=3)\n",
        "knn_model.fit(X_train, y_train)\n",
        "knn_model.score(X_test, y_test)"
      ],
      "metadata": {
        "colab": {
          "base_uri": "https://localhost:8080/"
        },
        "id": "nZtSDwPYD7XE",
        "outputId": "2fa914d0-a7ea-4d99-a0e7-48eb026e3c29"
      },
      "execution_count": null,
      "outputs": [
        {
          "output_type": "execute_result",
          "data": {
            "text/plain": [
              "0.9"
            ]
          },
          "metadata": {},
          "execution_count": 40
        }
      ]
    },
    {
      "cell_type": "code",
      "source": [
        "sgd_model = SGDClassifier()\n",
        "sgd_model.fit(X_train, y_train)\n",
        "sgd_model.score(X_test, y_test)"
      ],
      "metadata": {
        "colab": {
          "base_uri": "https://localhost:8080/"
        },
        "id": "v3mA0aPDHVSf",
        "outputId": "0c8aace4-3ba7-4dcf-cc80-8a7fc77cf7ad"
      },
      "execution_count": null,
      "outputs": [
        {
          "output_type": "execute_result",
          "data": {
            "text/plain": [
              "0.85"
            ]
          },
          "metadata": {},
          "execution_count": 41
        }
      ]
    },
    {
      "cell_type": "code",
      "source": [
        "dt_model = DecisionTreeClassifier()\n",
        "\n",
        "dt_model.fit(X_train, y_train)\n",
        "dt_model.score(X_test, y_test)"
      ],
      "metadata": {
        "colab": {
          "base_uri": "https://localhost:8080/"
        },
        "id": "aXnBoVtyHxlh",
        "outputId": "9b079db4-4a5b-4366-8598-c7ccdc6de471"
      },
      "execution_count": null,
      "outputs": [
        {
          "output_type": "execute_result",
          "data": {
            "text/plain": [
              "0.98"
            ]
          },
          "metadata": {},
          "execution_count": 42
        }
      ]
    },
    {
      "cell_type": "code",
      "source": [
        "y_pred_rf = rf_model.predict(X_test)\n",
        "\n",
        "rf_accuracy = accuracy_score(y_test, y_pred_rf)\n",
        "rf_precision = precision_score(y_test, y_pred_rf)\n",
        "rf_recall = recall_score(y_test, y_pred_rf)\n",
        "rf_f1 = f1_score(y_test, y_pred_rf)"
      ],
      "metadata": {
        "id": "OMEk_d4851md"
      },
      "execution_count": null,
      "outputs": []
    },
    {
      "cell_type": "code",
      "source": [
        "print(\"Random forest Accuracy:\", rf_accuracy)\n",
        "print(\"Random forest Precision:\", rf_precision)\n",
        "print(\"Random forest Recall:\", rf_recall)\n",
        "print(\"Random forest F1 Score:\", rf_f1)"
      ],
      "metadata": {
        "colab": {
          "base_uri": "https://localhost:8080/"
        },
        "id": "hJa84Hq-5-Rb",
        "outputId": "df4d1bd5-921e-4d51-e064-022091bca264"
      },
      "execution_count": null,
      "outputs": [
        {
          "output_type": "stream",
          "name": "stdout",
          "text": [
            "Random forest Accuracy: 0.98\n",
            "Random forest Precision: 0.9285714285714286\n",
            "Random forest Recall: 0.9285714285714286\n",
            "Random forest F1 Score: 0.9285714285714286\n"
          ]
        }
      ]
    },
    {
      "cell_type": "code",
      "source": [
        "y_pred_log = log_model.predict(X_test)\n",
        "\n",
        "log_accuracy = accuracy_score(y_test, y_pred_log)\n",
        "log_precision = precision_score(y_test, y_pred_log)\n",
        "log_recall = recall_score(y_test, y_pred_log)\n",
        "log_f1 = f1_score(y_test, y_pred_log)"
      ],
      "metadata": {
        "id": "JI03E8QG7Vtv"
      },
      "execution_count": null,
      "outputs": []
    },
    {
      "cell_type": "code",
      "source": [
        "print(\"Logistic Regression Accuracy:\", log_accuracy)\n",
        "print(\"Logistic Regression Precision:\", log_precision)\n",
        "print(\"Logistic Regression Recall:\", log_recall)\n",
        "print(\"Logistic Regression F1 Score:\", log_f1)"
      ],
      "metadata": {
        "colab": {
          "base_uri": "https://localhost:8080/"
        },
        "id": "lqh_UTaL7g9r",
        "outputId": "13cb6667-3d13-4707-ba9d-928decdba7ee"
      },
      "execution_count": null,
      "outputs": [
        {
          "output_type": "stream",
          "name": "stdout",
          "text": [
            "Logistic Regression Accuracy: 0.93\n",
            "Logistic Regression Precision: 0.7692307692307693\n",
            "Logistic Regression Recall: 0.7142857142857143\n",
            "Logistic Regression F1 Score: 0.7407407407407408\n"
          ]
        }
      ]
    },
    {
      "cell_type": "code",
      "source": [
        "y_pred_sgd = sgd_model.predict(X_test)\n",
        "\n",
        "sgd_accuracy = accuracy_score(y_test, y_pred_sgd)\n",
        "sgd_precision = precision_score(y_test, y_pred_sgd)\n",
        "sgd_recall = recall_score(y_test, y_pred_sgd)\n",
        "sgd_f1 = f1_score(y_test, y_pred_sgd)"
      ],
      "metadata": {
        "id": "9oicO3s1DxmW"
      },
      "execution_count": null,
      "outputs": []
    },
    {
      "cell_type": "code",
      "source": [
        "print(\"SGD Accuracy:\", sgd_accuracy)\n",
        "print(\"SGD Precision:\", sgd_precision)\n",
        "print(\"SGD Recall:\", sgd_recall)\n",
        "print(\"SGD F1 Score:\", sgd_f1)"
      ],
      "metadata": {
        "colab": {
          "base_uri": "https://localhost:8080/"
        },
        "id": "e_wcT8aGENEd",
        "outputId": "24189b5d-90ce-4c14-8e11-c00a3daee959"
      },
      "execution_count": null,
      "outputs": [
        {
          "output_type": "stream",
          "name": "stdout",
          "text": [
            "SGD Accuracy: 0.85\n",
            "SGD Precision: 0.4444444444444444\n",
            "SGD Recall: 0.2857142857142857\n",
            "SGD F1 Score: 0.34782608695652173\n"
          ]
        }
      ]
    },
    {
      "cell_type": "code",
      "source": [
        "y_pred_knn = knn_model.predict(X_test)\n",
        "\n",
        "knn_accuracy = accuracy_score(y_test, y_pred_knn)\n",
        "knn_precision = precision_score(y_test, y_pred_knn)\n",
        "knn_recall = recall_score(y_test, y_pred_knn)\n",
        "knn_f1 = f1_score(y_test, y_pred_knn)"
      ],
      "metadata": {
        "id": "sSLFXGX8GvOY"
      },
      "execution_count": null,
      "outputs": []
    },
    {
      "cell_type": "code",
      "source": [
        "print(\"KNN Accuracy:\", knn_accuracy)\n",
        "print(\"KNN Precision:\", knn_precision)\n",
        "print(\"KNN Recall:\", knn_recall)\n",
        "print(\"KNN F1 Score:\", knn_f1)"
      ],
      "metadata": {
        "colab": {
          "base_uri": "https://localhost:8080/"
        },
        "id": "bLkh7lmBG4ol",
        "outputId": "8496297b-a7ec-4664-dbe2-36ada4b5cac8"
      },
      "execution_count": null,
      "outputs": [
        {
          "output_type": "stream",
          "name": "stdout",
          "text": [
            "KNN Accuracy: 0.9\n",
            "KNN Precision: 0.8333333333333334\n",
            "KNN Recall: 0.35714285714285715\n",
            "KNN F1 Score: 0.5\n"
          ]
        }
      ]
    },
    {
      "cell_type": "code",
      "source": [
        "y_pred_dt = dt_model.predict(X_test)\n",
        "\n",
        "dt_accuracy = accuracy_score(y_test, y_pred_dt)\n",
        "dt_precision = precision_score(y_test, y_pred_dt)\n",
        "dt_recall = recall_score(y_test, y_pred_dt)\n",
        "dt_f1 = f1_score(y_test, y_pred_dt)"
      ],
      "metadata": {
        "id": "LaP7aQsQH9ey"
      },
      "execution_count": null,
      "outputs": []
    },
    {
      "cell_type": "code",
      "source": [
        "print(\"Decision Tree Accuracy:\", dt_accuracy)\n",
        "print(\"Decision Tree Precision:\", dt_precision)\n",
        "print(\"Decision Tree Recall:\", dt_recall)\n",
        "print(\"Decision Tree F1 Score:\", dt_f1)"
      ],
      "metadata": {
        "colab": {
          "base_uri": "https://localhost:8080/"
        },
        "id": "z1EU9UAhIF1v",
        "outputId": "d192b598-af4d-40a0-a7ac-490412853e59"
      },
      "execution_count": null,
      "outputs": [
        {
          "output_type": "stream",
          "name": "stdout",
          "text": [
            "Decision Tree Accuracy: 0.98\n",
            "Decision Tree Precision: 0.875\n",
            "Decision Tree Recall: 1.0\n",
            "Decision Tree F1 Score: 0.9333333333333333\n"
          ]
        }
      ]
    },
    {
      "cell_type": "code",
      "source": [
        "y_pred_dt"
      ],
      "metadata": {
        "colab": {
          "base_uri": "https://localhost:8080/"
        },
        "id": "l5M8OZ9yJjc8",
        "outputId": "9acbd901-f259-479b-b70f-03293227456f"
      },
      "execution_count": null,
      "outputs": [
        {
          "output_type": "execute_result",
          "data": {
            "text/plain": [
              "array([0, 0, 0, 0, 0, 0, 0, 0, 0, 0, 0, 0, 0, 0, 0, 0, 0, 1, 1, 1, 0, 0,\n",
              "       0, 0, 0, 1, 0, 0, 0, 0, 0, 0, 0, 0, 0, 0, 0, 0, 0, 0, 1, 0, 0, 0,\n",
              "       1, 0, 0, 1, 0, 0, 0, 0, 0, 0, 0, 0, 0, 1, 1, 0, 0, 0, 0, 0, 0, 1,\n",
              "       0, 1, 0, 0, 0, 0, 0, 0, 0, 0, 0, 1, 0, 0, 0, 0, 0, 0, 0, 0, 0, 0,\n",
              "       0, 0, 0, 1, 0, 0, 0, 0, 1, 0, 0, 0])"
            ]
          },
          "metadata": {},
          "execution_count": 31
        }
      ]
    },
    {
      "cell_type": "code",
      "source": [
        "import pickle\n",
        "\n",
        "with open('/content/drive/MyDrive/decision-tree.pkl', \"wb\") as file:\n",
        "    pickle.dump(dt_model, file)"
      ],
      "metadata": {
        "id": "i3beYgC-ZPvK"
      },
      "execution_count": null,
      "outputs": []
    }
  ]
}